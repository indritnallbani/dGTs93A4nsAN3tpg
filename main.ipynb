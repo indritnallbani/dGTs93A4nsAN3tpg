{
 "cells": [
  {
   "cell_type": "code",
   "execution_count": 17,
   "id": "b6c82e17-ea5b-44c8-b64a-1a35f6b7a6f0",
   "metadata": {},
   "outputs": [],
   "source": [
    "import numpy as np\n",
    "import pandas as pd\n",
    "import matplotlib.pyplot as plt\n",
    "import matplotlib\n",
    "matplotlib.use('nbagg')\n",
    "\n",
    "\n",
    "\n",
    "from sklearn import preprocessing\n",
    "from sklearn.preprocessing import StandardScaler,LabelEncoder,MinMaxScaler,OrdinalEncoder\n",
    "from sklearn.pipeline import Pipeline\n",
    "from sklearn.model_selection import cross_val_score\n",
    "\n",
    "\n",
    "\n",
    "from sklearn.linear_model import LogisticRegression\n",
    "from sklearn.tree import DecisionTreeClassifier\n",
    "from sklearn.ensemble import RandomForestClassifier\n",
    "import xgboost as xgb\n",
    "\n",
    "from sklearn.neighbors import KNeighborsClassifier\n",
    "from sklearn.model_selection import GridSearchCV, train_test_split\n",
    "from sklearn.model_selection import KFold\n",
    "from sklearn.metrics import make_scorer, precision_score,recall_score\n",
    "\n",
    "\n",
    "import warnings\n",
    "\n",
    "warnings.filterwarnings('ignore')\n",
    "\n",
    "%matplotlib inline"
   ]
  },
  {
   "cell_type": "markdown",
   "id": "4aff95e3-e441-4b3c-835f-a82ff375389f",
   "metadata": {},
   "source": [
    "## Print dataset to have a general knowledge on what i am working"
   ]
  },
  {
   "cell_type": "code",
   "execution_count": 18,
   "id": "85dc929b-4121-4ac8-be72-796d01e90115",
   "metadata": {},
   "outputs": [
    {
     "data": {
      "text/html": [
       "<div>\n",
       "<style scoped>\n",
       "    .dataframe tbody tr th:only-of-type {\n",
       "        vertical-align: middle;\n",
       "    }\n",
       "\n",
       "    .dataframe tbody tr th {\n",
       "        vertical-align: top;\n",
       "    }\n",
       "\n",
       "    .dataframe thead th {\n",
       "        text-align: right;\n",
       "    }\n",
       "</style>\n",
       "<table border=\"1\" class=\"dataframe\">\n",
       "  <thead>\n",
       "    <tr style=\"text-align: right;\">\n",
       "      <th></th>\n",
       "      <th>age</th>\n",
       "      <th>job</th>\n",
       "      <th>marital</th>\n",
       "      <th>education</th>\n",
       "      <th>default</th>\n",
       "      <th>balance</th>\n",
       "      <th>housing</th>\n",
       "      <th>loan</th>\n",
       "      <th>contact</th>\n",
       "      <th>day</th>\n",
       "      <th>month</th>\n",
       "      <th>duration</th>\n",
       "      <th>campaign</th>\n",
       "      <th>y</th>\n",
       "    </tr>\n",
       "  </thead>\n",
       "  <tbody>\n",
       "    <tr>\n",
       "      <th>0</th>\n",
       "      <td>58</td>\n",
       "      <td>management</td>\n",
       "      <td>married</td>\n",
       "      <td>tertiary</td>\n",
       "      <td>no</td>\n",
       "      <td>2143</td>\n",
       "      <td>yes</td>\n",
       "      <td>no</td>\n",
       "      <td>unknown</td>\n",
       "      <td>5</td>\n",
       "      <td>may</td>\n",
       "      <td>261</td>\n",
       "      <td>1</td>\n",
       "      <td>no</td>\n",
       "    </tr>\n",
       "    <tr>\n",
       "      <th>1</th>\n",
       "      <td>44</td>\n",
       "      <td>technician</td>\n",
       "      <td>single</td>\n",
       "      <td>secondary</td>\n",
       "      <td>no</td>\n",
       "      <td>29</td>\n",
       "      <td>yes</td>\n",
       "      <td>no</td>\n",
       "      <td>unknown</td>\n",
       "      <td>5</td>\n",
       "      <td>may</td>\n",
       "      <td>151</td>\n",
       "      <td>1</td>\n",
       "      <td>no</td>\n",
       "    </tr>\n",
       "    <tr>\n",
       "      <th>2</th>\n",
       "      <td>33</td>\n",
       "      <td>entrepreneur</td>\n",
       "      <td>married</td>\n",
       "      <td>secondary</td>\n",
       "      <td>no</td>\n",
       "      <td>2</td>\n",
       "      <td>yes</td>\n",
       "      <td>yes</td>\n",
       "      <td>unknown</td>\n",
       "      <td>5</td>\n",
       "      <td>may</td>\n",
       "      <td>76</td>\n",
       "      <td>1</td>\n",
       "      <td>no</td>\n",
       "    </tr>\n",
       "    <tr>\n",
       "      <th>3</th>\n",
       "      <td>47</td>\n",
       "      <td>blue-collar</td>\n",
       "      <td>married</td>\n",
       "      <td>unknown</td>\n",
       "      <td>no</td>\n",
       "      <td>1506</td>\n",
       "      <td>yes</td>\n",
       "      <td>no</td>\n",
       "      <td>unknown</td>\n",
       "      <td>5</td>\n",
       "      <td>may</td>\n",
       "      <td>92</td>\n",
       "      <td>1</td>\n",
       "      <td>no</td>\n",
       "    </tr>\n",
       "    <tr>\n",
       "      <th>4</th>\n",
       "      <td>33</td>\n",
       "      <td>unknown</td>\n",
       "      <td>single</td>\n",
       "      <td>unknown</td>\n",
       "      <td>no</td>\n",
       "      <td>1</td>\n",
       "      <td>no</td>\n",
       "      <td>no</td>\n",
       "      <td>unknown</td>\n",
       "      <td>5</td>\n",
       "      <td>may</td>\n",
       "      <td>198</td>\n",
       "      <td>1</td>\n",
       "      <td>no</td>\n",
       "    </tr>\n",
       "    <tr>\n",
       "      <th>...</th>\n",
       "      <td>...</td>\n",
       "      <td>...</td>\n",
       "      <td>...</td>\n",
       "      <td>...</td>\n",
       "      <td>...</td>\n",
       "      <td>...</td>\n",
       "      <td>...</td>\n",
       "      <td>...</td>\n",
       "      <td>...</td>\n",
       "      <td>...</td>\n",
       "      <td>...</td>\n",
       "      <td>...</td>\n",
       "      <td>...</td>\n",
       "      <td>...</td>\n",
       "    </tr>\n",
       "    <tr>\n",
       "      <th>39995</th>\n",
       "      <td>53</td>\n",
       "      <td>technician</td>\n",
       "      <td>married</td>\n",
       "      <td>tertiary</td>\n",
       "      <td>no</td>\n",
       "      <td>395</td>\n",
       "      <td>no</td>\n",
       "      <td>no</td>\n",
       "      <td>cellular</td>\n",
       "      <td>3</td>\n",
       "      <td>jun</td>\n",
       "      <td>107</td>\n",
       "      <td>1</td>\n",
       "      <td>no</td>\n",
       "    </tr>\n",
       "    <tr>\n",
       "      <th>39996</th>\n",
       "      <td>30</td>\n",
       "      <td>management</td>\n",
       "      <td>single</td>\n",
       "      <td>tertiary</td>\n",
       "      <td>no</td>\n",
       "      <td>3340</td>\n",
       "      <td>no</td>\n",
       "      <td>no</td>\n",
       "      <td>cellular</td>\n",
       "      <td>3</td>\n",
       "      <td>jun</td>\n",
       "      <td>238</td>\n",
       "      <td>3</td>\n",
       "      <td>yes</td>\n",
       "    </tr>\n",
       "    <tr>\n",
       "      <th>39997</th>\n",
       "      <td>54</td>\n",
       "      <td>admin</td>\n",
       "      <td>divorced</td>\n",
       "      <td>secondary</td>\n",
       "      <td>no</td>\n",
       "      <td>200</td>\n",
       "      <td>no</td>\n",
       "      <td>no</td>\n",
       "      <td>cellular</td>\n",
       "      <td>3</td>\n",
       "      <td>jun</td>\n",
       "      <td>170</td>\n",
       "      <td>1</td>\n",
       "      <td>yes</td>\n",
       "    </tr>\n",
       "    <tr>\n",
       "      <th>39998</th>\n",
       "      <td>34</td>\n",
       "      <td>management</td>\n",
       "      <td>married</td>\n",
       "      <td>tertiary</td>\n",
       "      <td>no</td>\n",
       "      <td>1047</td>\n",
       "      <td>no</td>\n",
       "      <td>no</td>\n",
       "      <td>cellular</td>\n",
       "      <td>3</td>\n",
       "      <td>jun</td>\n",
       "      <td>342</td>\n",
       "      <td>1</td>\n",
       "      <td>no</td>\n",
       "    </tr>\n",
       "    <tr>\n",
       "      <th>39999</th>\n",
       "      <td>38</td>\n",
       "      <td>technician</td>\n",
       "      <td>married</td>\n",
       "      <td>secondary</td>\n",
       "      <td>no</td>\n",
       "      <td>1442</td>\n",
       "      <td>yes</td>\n",
       "      <td>no</td>\n",
       "      <td>cellular</td>\n",
       "      <td>3</td>\n",
       "      <td>jun</td>\n",
       "      <td>113</td>\n",
       "      <td>1</td>\n",
       "      <td>no</td>\n",
       "    </tr>\n",
       "  </tbody>\n",
       "</table>\n",
       "<p>40000 rows × 14 columns</p>\n",
       "</div>"
      ],
      "text/plain": [
       "       age           job   marital  education default  balance housing loan  \\\n",
       "0       58    management   married   tertiary      no     2143     yes   no   \n",
       "1       44    technician    single  secondary      no       29     yes   no   \n",
       "2       33  entrepreneur   married  secondary      no        2     yes  yes   \n",
       "3       47   blue-collar   married    unknown      no     1506     yes   no   \n",
       "4       33       unknown    single    unknown      no        1      no   no   \n",
       "...    ...           ...       ...        ...     ...      ...     ...  ...   \n",
       "39995   53    technician   married   tertiary      no      395      no   no   \n",
       "39996   30    management    single   tertiary      no     3340      no   no   \n",
       "39997   54         admin  divorced  secondary      no      200      no   no   \n",
       "39998   34    management   married   tertiary      no     1047      no   no   \n",
       "39999   38    technician   married  secondary      no     1442     yes   no   \n",
       "\n",
       "        contact  day month  duration  campaign    y  \n",
       "0       unknown    5   may       261         1   no  \n",
       "1       unknown    5   may       151         1   no  \n",
       "2       unknown    5   may        76         1   no  \n",
       "3       unknown    5   may        92         1   no  \n",
       "4       unknown    5   may       198         1   no  \n",
       "...         ...  ...   ...       ...       ...  ...  \n",
       "39995  cellular    3   jun       107         1   no  \n",
       "39996  cellular    3   jun       238         3  yes  \n",
       "39997  cellular    3   jun       170         1  yes  \n",
       "39998  cellular    3   jun       342         1   no  \n",
       "39999  cellular    3   jun       113         1   no  \n",
       "\n",
       "[40000 rows x 14 columns]"
      ]
     },
     "execution_count": 18,
     "metadata": {},
     "output_type": "execute_result"
    }
   ],
   "source": [
    "dataset = pd.read_csv(\"term-deposit-marketing-2020.csv\")\n",
    "dataset"
   ]
  },
  {
   "cell_type": "markdown",
   "id": "b40d51eb-5044-44f1-84c0-044ef38de823",
   "metadata": {},
   "source": [
    "## Describe the dataset and check for misssing values. \n",
    "\n",
    "\n"
   ]
  },
  {
   "cell_type": "code",
   "execution_count": 19,
   "id": "90668e30-a49d-4927-8d12-28cc174a0525",
   "metadata": {},
   "outputs": [
    {
     "name": "stdout",
     "output_type": "stream",
     "text": [
      "                age        balance           day      duration      campaign\n",
      "count  40000.000000   40000.000000  40000.000000  40000.000000  40000.000000\n",
      "mean      40.544600    1274.277550     16.017225    254.824300      2.882175\n",
      "std        9.641776    2903.769716      8.278127    259.366498      3.239051\n",
      "min       19.000000   -8019.000000      1.000000      0.000000      1.000000\n",
      "25%       33.000000      54.000000      8.000000    100.000000      1.000000\n",
      "50%       39.000000     407.000000     17.000000    175.000000      2.000000\n",
      "75%       48.000000    1319.000000     21.000000    313.000000      3.000000\n",
      "max       95.000000  102127.000000     31.000000   4918.000000     63.000000\n",
      "\n",
      "Missing data in the dataset: 0\n",
      "\n"
     ]
    }
   ],
   "source": [
    "print(dataset.describe())\n",
    "print(f\"\\nMissing data in the dataset: {dataset.isnull().values.sum()}\\n\")\n"
   ]
  },
  {
   "cell_type": "code",
   "execution_count": 20,
   "id": "2b86187f-892a-4645-9378-a98479f6aaac",
   "metadata": {},
   "outputs": [
    {
     "name": "stdout",
     "output_type": "stream",
     "text": [
      "Response variable count for original dataset:\n",
      "no     37104\n",
      "yes     2896\n",
      "Name: y, dtype: int64\n",
      "\n",
      "There is class imbalance so if fix it with the method mentioned above:\n",
      "\n"
     ]
    }
   ],
   "source": [
    "#dataset[\"y\"] = dataset[\"y\"].replace({'yes':1, 'no':0})\n",
    "print(f\"Response variable count for original dataset:\\n{dataset['y'].value_counts()}\")\n",
    "print(\"\\nThere is class imbalance so if fix it with the method mentioned above:\\n\")"
   ]
  },
  {
   "cell_type": "markdown",
   "id": "6b299609-c57e-40e8-bb86-5a9e86c8ef21",
   "metadata": {},
   "source": [
    "## I continue by checking the response value imbalance.\n",
    "If there is an imbalance ill perform Random Undersampling \n",
    "in order to balance the  the dataset in order to avoid bias\n"
   ]
  },
  {
   "cell_type": "code",
   "execution_count": 21,
   "id": "6fa31cce-1e10-4d6a-b887-fe273e1e1688",
   "metadata": {},
   "outputs": [
    {
     "name": "stdout",
     "output_type": "stream",
     "text": [
      "Response variable count for original dataset:\n",
      "no     37104\n",
      "yes     2896\n",
      "Name: y, dtype: int64\n",
      "\n",
      "There is class imbalance so if fix it with the method mentioned above:\n",
      "\n",
      "Response variable count for the balanced dataset:\n",
      "no     2896\n",
      "yes    2896\n",
      "Name: y, dtype: int64\n"
     ]
    }
   ],
   "source": [
    "print(f\"Response variable count for original dataset:\\n{dataset['y'].value_counts()}\")\n",
    "print(\"\\nThere is class imbalance so if fix it with the method mentioned above:\\n\")\n",
    "\n",
    "yes = dataset[dataset.y == \"yes\"]\n",
    "no = dataset[dataset.y == \"no\"].sample(n=yes.shape[0], random_state=32)\n",
    "\n",
    "balanced_dataset = pd.concat([yes, no])\n",
    "\n",
    "print(f\"Response variable count for the balanced dataset:\\n{balanced_dataset['y'].value_counts()}\")\n"
   ]
  },
  {
   "cell_type": "markdown",
   "id": "24d0fb3e-8f64-4a5e-a370-11ca1928959a",
   "metadata": {},
   "source": [
    "# I continue with some data exploration \n"
   ]
  },
  {
   "cell_type": "code",
   "execution_count": null,
   "id": "6511e96c-a373-4479-a86f-915c988c950a",
   "metadata": {},
   "outputs": [],
   "source": []
  },
  {
   "cell_type": "code",
   "execution_count": null,
   "id": "1aaa08c2-4266-4398-aa1a-56fa7f285032",
   "metadata": {},
   "outputs": [],
   "source": []
  },
  {
   "cell_type": "code",
   "execution_count": null,
   "id": "d0b35169-6f0a-495c-9d72-d767431e14e2",
   "metadata": {},
   "outputs": [],
   "source": []
  },
  {
   "cell_type": "code",
   "execution_count": 22,
   "id": "9bd6f532-5a8b-4b3c-ad42-1504eef61067",
   "metadata": {},
   "outputs": [
    {
     "data": {
      "text/plain": [
       "Text(0.5, 1.0, 'Balanced job,y count')"
      ]
     },
     "execution_count": 22,
     "metadata": {},
     "output_type": "execute_result"
    },
    {
     "data": {
      "image/png": "[encoded data removed]",
      "text/plain": [
       "<Figure size 1008x1008 with 1 Axes>"
      ]
     },
     "metadata": {
      "needs_background": "light"
     },
     "output_type": "display_data"
    }
   ],
   "source": [
    "plt.figure(figsize=(14,14))\n",
    "df_plot = balanced_dataset.groupby(['job','y']).y.count().plot.bar()\n",
    "plt.title(\"Balanced job,y count\")\n"
   ]
  },
  {
   "cell_type": "markdown",
   "id": "5b0b868e-eaf4-4227-9a0f-ec9724062383",
   "metadata": {},
   "source": [
    "###  * Admin job, student, self-employed churn more to subscription\n",
    "###  * Blue-collar, services churn less to subscribtion"
   ]
  },
  {
   "cell_type": "code",
   "execution_count": 23,
   "id": "195722c8-76a5-451a-8de9-acaff0b47767",
   "metadata": {},
   "outputs": [
    {
     "data": {
      "text/plain": [
       "Text(0.5, 1.0, 'Balanced month,y count')"
      ]
     },
     "execution_count": 23,
     "metadata": {},
     "output_type": "execute_result"
    },
    {
     "data": {
      "image/png": "[encoded data removed]",
      "text/plain": [
       "<Figure size 1008x1008 with 1 Axes>"
      ]
     },
     "metadata": {
      "needs_background": "light"
     },
     "output_type": "display_data"
    }
   ],
   "source": [
    "plt.figure(figsize=(14,14))\n",
    "df_plot = balanced_dataset.groupby(['month','y']).y.count().plot.bar()\n",
    "plt.title(\"Balanced month,y count\")"
   ]
  },
  {
   "cell_type": "markdown",
   "id": "b4a237df-76e5-4e97-948c-5dd66afa0871",
   "metadata": {},
   "source": [
    "###  * April, February, March, and October churn people more to subscription\n",
    "###  * August,May, January churn less to subscribtion"
   ]
  },
  {
   "cell_type": "code",
   "execution_count": null,
   "id": "d06bd4dd-dcdc-4155-84c3-f0c77877bd19",
   "metadata": {},
   "outputs": [],
   "source": []
  },
  {
   "cell_type": "code",
   "execution_count": 24,
   "id": "c78e7343-0ff1-472c-8117-aada0ca0a10a",
   "metadata": {},
   "outputs": [
    {
     "data": {
      "text/plain": [
       "Text(0.5, 1.0, 'Balanced housing,y count')"
      ]
     },
     "execution_count": 24,
     "metadata": {},
     "output_type": "execute_result"
    },
    {
     "data": {
      "image/png": "[encoded data removed]",
      "text/plain": [
       "<Figure size 1008x1008 with 1 Axes>"
      ]
     },
     "metadata": {
      "needs_background": "light"
     },
     "output_type": "display_data"
    }
   ],
   "source": [
    "plt.figure(figsize=(14,14))\n",
    "df_plot = balanced_dataset.groupby(['housing','y']).y.count().plot.bar()\n",
    "plt.title(\"Balanced housing,y count\")"
   ]
  },
  {
   "cell_type": "markdown",
   "id": "b2ec3fd3-cbcb-4a37-a577-8ac131fd8837",
   "metadata": {},
   "source": [
    "###  * People with no housing churn to  subscribtion more\n",
    "###  * People with housing churn to subscribtion less"
   ]
  },
  {
   "cell_type": "code",
   "execution_count": null,
   "id": "3ca20d24-86e5-4f2e-9ec7-0cbec92b9dfe",
   "metadata": {},
   "outputs": [],
   "source": []
  },
  {
   "cell_type": "code",
   "execution_count": 25,
   "id": "38270fbc-d0ed-4b55-bc0f-7965b97ac1d9",
   "metadata": {},
   "outputs": [
    {
     "data": {
      "text/plain": [
       "Text(0.5, 1.0, 'Balanced marital,y count')"
      ]
     },
     "execution_count": 25,
     "metadata": {},
     "output_type": "execute_result"
    },
    {
     "data": {
      "image/png": "[encoded data removed]",
      "text/plain": [
       "<Figure size 1008x1008 with 1 Axes>"
      ]
     },
     "metadata": {
      "needs_background": "light"
     },
     "output_type": "display_data"
    }
   ],
   "source": [
    "plt.figure(figsize=(14,14))\n",
    "df_plot = balanced_dataset.groupby(['marital','y']).y.count().plot.bar()\n",
    "plt.title(\"Balanced marital,y count\")"
   ]
  },
  {
   "cell_type": "markdown",
   "id": "8a701127-4a5e-4f66-962b-bc861e97afbb",
   "metadata": {},
   "source": [
    "### More married people dont subscribe than dont subscribe whereas more single people subscribe more."
   ]
  },
  {
   "cell_type": "markdown",
   "id": "b92c4296-5f79-4620-9df4-2c5d7c46d1eb",
   "metadata": {},
   "source": [
    "\n",
    "###\n",
    "###\n",
    "\n",
    "\n",
    "# In general,  married people, with managerial jobs and without houses tend to churn more to subscribtions. Moreover,\n",
    "# the data suggest that there is a positive churn in the months of April, February and March.\n",
    "\n",
    "### This information can be used by the company to targed the  married people more than singles or divorced\n",
    "### or to offer promotions in the other months to increse the positive churn.\n",
    "\n",
    "\n",
    "\n",
    "\n",
    "\n",
    "\n",
    "\n",
    "\n"
   ]
  },
  {
   "cell_type": "code",
   "execution_count": null,
   "id": "30d99d54-07e8-4264-89ac-71599c78ee98",
   "metadata": {},
   "outputs": [],
   "source": []
  },
  {
   "cell_type": "code",
   "execution_count": null,
   "id": "55f89e0c-7a6c-4249-8947-0aa210796f65",
   "metadata": {},
   "outputs": [],
   "source": []
  },
  {
   "cell_type": "code",
   "execution_count": null,
   "id": "b7a69be7-169d-46ad-91ed-95e82ed1cfde",
   "metadata": {},
   "outputs": [],
   "source": []
  },
  {
   "cell_type": "markdown",
   "id": "907473d5-0133-445d-a15d-70a267dc9334",
   "metadata": {},
   "source": [
    "### I will move on with model training"
   ]
  },
  {
   "cell_type": "code",
   "execution_count": 26,
   "id": "abddd222-3562-4d7a-8dc2-feb614e1f2bf",
   "metadata": {},
   "outputs": [],
   "source": [
    "\n",
    "# Assign dummy variables to categorical types and\n",
    "# split the features  from the response variable\n",
    "\n",
    "\n",
    "X=pd.get_dummies(balanced_dataset.iloc[:,:-1]) \n",
    "y = balanced_dataset.iloc[:,-1:]\n"
   ]
  },
  {
   "cell_type": "code",
   "execution_count": null,
   "id": "5e365546-c30c-4774-bfef-f94d4b698f91",
   "metadata": {},
   "outputs": [],
   "source": []
  },
  {
   "cell_type": "code",
   "execution_count": 27,
   "id": "f19a22b6-c9ce-4139-9143-89de6af32f84",
   "metadata": {},
   "outputs": [
    {
     "name": "stdout",
     "output_type": "stream",
     "text": [
      "Train dataset size is 4633 and feature size is 44\n",
      "Test dataset is 1159 and feature size is 44\n"
     ]
    }
   ],
   "source": [
    "# I continued the  model training by firstly splitting the data in train and test datasets\n",
    "X_train,X_test,y_train,y_test = train_test_split(X.values,y.values,test_size=0.2,random_state=0)\n",
    "\n",
    "print(f\"Train dataset size is {X_train.shape[0]} and feature size is {X_train.shape[1]}\")\n",
    "print(f\"Test dataset is {X_test.shape[0]} and feature size is {X_test.shape[1]}\")\n",
    "\n"
   ]
  },
  {
   "cell_type": "code",
   "execution_count": null,
   "id": "e771f51b-a1ca-4445-9c7d-34f512356022",
   "metadata": {},
   "outputs": [],
   "source": []
  },
  {
   "cell_type": "markdown",
   "id": "0deb94d5-640c-4788-a9e7-f6b29a9a9d40",
   "metadata": {},
   "source": [
    "### I use three different models to train: DecissionTreeClassifier, RandomForestClassifier, XGBClassifier\n",
    "### There are  a lot of models to chose but  i prefered these due to the small (now balanced) dataset.\n",
    "### I do a GridSearchCV to find the best parameters for each model and  have used five different metrics\n",
    "### to check for model robustness.\n",
    "\n"
   ]
  },
  {
   "cell_type": "markdown",
   "id": "b1eecd1b-ca8b-44c7-905e-3d504f572bf2",
   "metadata": {},
   "source": [
    "### All proposed models pass the accuaracy score proposed by the competition\n"
   ]
  },
  {
   "cell_type": "code",
   "execution_count": null,
   "id": "a0196848-cdd9-4319-a944-e502d47d5ad2",
   "metadata": {},
   "outputs": [],
   "source": []
  },
  {
   "cell_type": "markdown",
   "id": "201b3d0f-d921-4fd6-86c8-b30f4de23528",
   "metadata": {},
   "source": [
    "### RandomForestClassifier and XGBoost may take some time to find the best parameters.\n",
    "### I present some results i took from my own experiments"
   ]
  },
  {
   "cell_type": "markdown",
   "id": "b95694d8-47a5-4ee7-a42c-773d28e926a7",
   "metadata": {},
   "source": [
    "# DecisionTreeClassifier & RandomForestClassifier"
   ]
  },
  {
   "cell_type": "code",
   "execution_count": 32,
   "id": "59f53128-796b-4ddc-8d57-9c69039efc84",
   "metadata": {
    "tags": []
   },
   "outputs": [
    {
     "name": "stdout",
     "output_type": "stream",
     "text": [
      "5-fold cross-validation:\n",
      "\n",
      "Decision Tree\n",
      "----------\n",
      "Best score: 0.861\n",
      "Best parameters set:\n",
      "\tclf2__criterion: 'gini'\n",
      "\tclf2__max_depth: 5\n",
      "\n",
      "\n",
      "Decision Tree        precision: 0.847\n",
      "Decision Tree        recall: 0.790\n",
      "Decision Tree        f1       score: 0.828\n",
      "Decision Tree        ROC-AUC  score: 0.863\n",
      "Decision Tree        accuracy score: 0.829\n",
      " \n",
      "RandomForestClassifier\n",
      "----------\n",
      "Best score: 0.892\n",
      "Best parameters set:\n",
      "\tclf4__max_features: 'sqrt'\n",
      "\tclf4__min_samples_leaf: 1\n",
      "\tclf4__min_samples_split: 10\n",
      "\tclf4__n_estimators: 200\n",
      "\n",
      "\n",
      "RandomForestClassifier precision: 0.837\n",
      "RandomForestClassifier recall: 0.869\n",
      "RandomForestClassifier f1       score: 0.855\n",
      "RandomForestClassifier ROC-AUC  score: 0.914\n",
      "RandomForestClassifier accuracy score: 0.850\n",
      " \n"
     ]
    }
   ],
   "source": [
    "clf2 = DecisionTreeClassifier()\n",
    "clf4 = RandomForestClassifier()    \n",
    "\n",
    "pipe2 = Pipeline([['sc',StandardScaler()],['clf2',clf2]])\n",
    "pipe4 = Pipeline([['sc',StandardScaler()],['clf4',clf4]])\n",
    "\n",
    "params_1 = {\"clf1__C\":[0.001,0.01,0.1,1,10,100,1000], \"clf1__penalty\":[\"l1\",\"l2\"]}# l1 lasso l2 ridge\n",
    "params_2 = {'clf2__criterion':['gini','entropy'],'clf2__max_depth':[4,5,6,10,11,12,30,40,120,150]}\n",
    "params_4 = {'clf4__n_estimators': [200, 700],'clf4__max_features': ['auto', 'sqrt', 'log2'],'clf4__min_samples_leaf': [1, 2, 4], 'clf4__min_samples_split': [2, 5, 10]}\n",
    "\n",
    "\n",
    "clf_labels = [ \"Decision Tree\" ,\"RandomForestClassifier\"]\n",
    "\n",
    "cv = KFold(n_splits=5, random_state=1, shuffle=True)\n",
    "\n",
    "print(\"5-fold cross-validation:\\n\")\n",
    "\n",
    "\n",
    "precision = make_scorer(precision_score, pos_label=\"yes\")\n",
    "recall = make_scorer(recall_score, pos_label=\"yes\")\n",
    "\n",
    "\n",
    "\n",
    "for clf,params,label in zip([pipe2,pipe4],[params_2,params_4],clf_labels):\n",
    "    \n",
    "    grid_search = GridSearchCV(clf, params, n_jobs=-1, verbose=0,cv=5)\n",
    "    grid_search.fit(X_train, y_train.ravel())\n",
    "    \n",
    "    print(label)\n",
    "    print(\"----------\")\n",
    "    print ('Best score: %0.3f' % grid_search.best_score_)\n",
    "    print ('Best parameters set:')\n",
    "    best_parameters = grid_search.best_params_\n",
    "    \n",
    "    \n",
    "    for param_name in sorted(best_parameters.keys()):\n",
    "        print('\\t%s: %r'%(param_name,best_parameters[param_name]))\n",
    "        \n",
    "  \n",
    "    scores_test_f1  = cross_val_score(estimator=clf.set_params(**grid_search.best_params_), X=X_test,y=y_test.ravel(),cv=cv,scoring=\"f1_macro\")\n",
    "    scores_test_roc  = cross_val_score(estimator=clf.set_params(**grid_search.best_params_), X=X_test,y=y_test.ravel(),cv=cv,scoring=\"roc_auc\")\n",
    "    scores_test_accuracy  = cross_val_score(estimator=clf.set_params(**grid_search.best_params_), X=X_test,y=y_test.ravel(),cv=cv,scoring=\"accuracy\")\n",
    "    scores_test_precision  = cross_val_score(estimator=clf.set_params(**grid_search.best_params_), X=X_test,y=y_test.ravel(),cv=cv,scoring=precision)\n",
    "    scores_test_recall  = cross_val_score(estimator=clf.set_params(**grid_search.best_params_), X=X_test,y=y_test.ravel(),cv=cv,scoring=recall)\n",
    "\n",
    "    print(\"\\n\")\n",
    "    \n",
    "    print(f\"{label:20} precision: {scores_test_precision.mean() :.3f}\")      \n",
    "    print(f\"{label:20} recall: {scores_test_recall.mean() :.3f}\")  \n",
    "    print(f\"{label:20} f1       score: {scores_test_f1.mean():.3f}\")\n",
    "    print(f\"{label:20} ROC-AUC  score: {scores_test_roc.mean() :.3f}\")\n",
    "    print(f\"{label:20} accuracy score: {scores_test_accuracy.mean() :.3f}\")\n",
    "    print(\" \")"
   ]
  },
  {
   "cell_type": "raw",
   "id": "3e81c3d2-7e24-4c39-97fc-6a08c91af446",
   "metadata": {},
   "source": [
    "My results:\n",
    "5-fold cross-validation:\n",
    "\n",
    "Decision Tree\n",
    "----------\n",
    "Best score: 0.862\n",
    "Best parameters set:\n",
    "\tclf2__criterion: 'gini'\n",
    "\tclf2__max_depth: 5\n",
    "\n",
    "\n",
    "Decision Tree        precision: 0.848\n",
    "Decision Tree        recall: 0.792\n",
    "Decision Tree        f1       score: 0.828\n",
    "Decision Tree        ROC-AUC  score: 0.860\n",
    "Decision Tree        accuracy score: 0.829\n",
    " \n",
    "RandomForestClassifier\n",
    "----------\n",
    "Best score: 0.891\n",
    "Best parameters set:\n",
    "\tclf4__max_features: 'auto'\n",
    "\tclf4__min_samples_leaf: 1\n",
    "\tclf4__min_samples_split: 5\n",
    "\tclf4__n_estimators: 200\n",
    "\n",
    "\n",
    "RandomForestClassifier precision: 0.837\n",
    "RandomForestClassifier recall: 0.867\n",
    "RandomForestClassifier f1       score: 0.850\n",
    "RandomForestClassifier ROC-AUC  score: 0.915\n",
    "RandomForestClassifier accuracy score: 0.859"
   ]
  },
  {
   "cell_type": "markdown",
   "id": "ef1c5509-aca5-406f-86a4-2af340747c54",
   "metadata": {},
   "source": [
    "# XGBoost"
   ]
  },
  {
   "cell_type": "code",
   "execution_count": 36,
   "id": "d6ba8f06-127e-4ecc-9d51-e9472c5d2ed8",
   "metadata": {},
   "outputs": [
    {
     "name": "stdout",
     "output_type": "stream",
     "text": [
      "5-fold cross-validation:\n",
      "\n",
      "XGBoost\n",
      "----------\n",
      "Best score: 0.892\n",
      "Best parameters set:\n",
      "\tclf5__max_depth: 10\n",
      "\tclf5__n_estimators: 100\n",
      "\n",
      "\n",
      "XGBoost              precision: 0.841\n",
      "XGBoost              recall: 0.862\n",
      "XGBoost              f1       score: 0.853\n",
      "XGBoost              ROC-AUC  score: 0.908\n",
      "XGBoost              accuracy score: 0.853\n",
      " \n"
     ]
    }
   ],
   "source": [
    "\n",
    "clf5 = xgb.XGBClassifier(eval_metric='logloss')\n",
    "\n",
    "\n",
    "pipe5 = Pipeline([['sc',StandardScaler()],['clf5',clf5]])\n",
    "\n",
    "\n",
    "params_5 = {'clf5__max_depth': [2, 7, 10], 'clf5__n_estimators': [10, 100]}\n",
    "\n",
    "\n",
    "clf_labels = [ \"XGBoost\"]\n",
    "\n",
    "cv = KFold(n_splits=5, random_state=1, shuffle=True)\n",
    "\n",
    "print(\"5-fold cross-validation:\\n\")\n",
    "\n",
    "\n",
    "precision = make_scorer(precision_score, pos_label=\"yes\")\n",
    "recall = make_scorer(recall_score, pos_label=\"yes\")\n",
    "\n",
    "\n",
    "\n",
    "for clf,params,label in zip([pipe5],[params_5],clf_labels):\n",
    "    \n",
    "    grid_search = GridSearchCV(clf, params, n_jobs=-1, verbose=0,cv=5)\n",
    "    grid_search.fit(X_train, y_train.ravel())\n",
    "    \n",
    "    print(label)\n",
    "    print(\"----------\")\n",
    "    print ('Best score: %0.3f' % grid_search.best_score_)\n",
    "    print ('Best parameters set:')\n",
    "    best_parameters = grid_search.best_params_\n",
    "    \n",
    "    \n",
    "    for param_name in sorted(best_parameters.keys()):\n",
    "        print('\\t%s: %r'%(param_name,best_parameters[param_name]))\n",
    "        \n",
    "  \n",
    "    scores_test_f1  = cross_val_score(estimator=clf.set_params(**grid_search.best_params_), X=X_test,y=y_test.ravel(),cv=cv,scoring=\"f1_macro\")\n",
    "    scores_test_roc  = cross_val_score(estimator=clf.set_params(**grid_search.best_params_), X=X_test,y=y_test.ravel(),cv=cv,scoring=\"roc_auc\")\n",
    "    scores_test_accuracy  = cross_val_score(estimator=clf.set_params(**grid_search.best_params_), X=X_test,y=y_test.ravel(),cv=cv,scoring=\"accuracy\")\n",
    "    scores_test_precision  = cross_val_score(estimator=clf.set_params(**grid_search.best_params_), X=X_test,y=y_test.ravel(),cv=cv,scoring=precision)\n",
    "    scores_test_recall  = cross_val_score(estimator=clf.set_params(**grid_search.best_params_), X=X_test,y=y_test.ravel(),cv=cv,scoring=recall)\n",
    "\n",
    "    print(\"\\n\")\n",
    "    \n",
    "    print(f\"{label:20} precision: {scores_test_precision.mean() :.3f}\")      \n",
    "    print(f\"{label:20} recall: {scores_test_recall.mean() :.3f}\")  \n",
    "    print(f\"{label:20} f1       score: {scores_test_f1.mean():.3f}\")\n",
    "    print(f\"{label:20} ROC-AUC  score: {scores_test_roc.mean() :.3f}\")\n",
    "    print(f\"{label:20} accuracy score: {scores_test_accuracy.mean() :.3f}\")\n",
    "    print(\" \")"
   ]
  },
  {
   "cell_type": "code",
   "execution_count": null,
   "id": "23a796ee-9386-4144-93ba-1b3a527a7b3b",
   "metadata": {},
   "outputs": [],
   "source": []
  },
  {
   "cell_type": "raw",
   "id": "6ab8b15d-12e6-4bff-9e0e-581c1d174c41",
   "metadata": {},
   "source": [
    "My results:\n",
    "5-fold cross-validation:\n",
    "\n",
    "XGBoost\n",
    "----------\n",
    "Best score: 0.892\n",
    "Best parameters set:\n",
    "\tclf5__max_depth: 10\n",
    "\tclf5__n_estimators: 100\n",
    "\n",
    "\n",
    "XGBoost              precision: 0.841\n",
    "XGBoost              recall: 0.862\n",
    "XGBoost              f1       score: 0.853\n",
    "XGBoost              ROC-AUC  score: 0.908\n",
    "XGBoost              accuracy score: 0.853"
   ]
  },
  {
   "cell_type": "code",
   "execution_count": null,
   "id": "32b259dd-d841-435c-83ed-75382e9b41af",
   "metadata": {},
   "outputs": [],
   "source": []
  },
  {
   "cell_type": "code",
   "execution_count": null,
   "id": "8ce130ea-296b-48e8-bcaf-a6ab986434de",
   "metadata": {},
   "outputs": [],
   "source": []
  }
 ],
 "metadata": {
  "kernelspec": {
   "display_name": "Python 3",
   "language": "python",
   "name": "python3"
  },
  "language_info": {
   "codemirror_mode": {
    "name": "ipython",
    "version": 3
   },
   "file_extension": ".py",
   "mimetype": "text/x-python",
   "name": "python",
   "nbconvert_exporter": "python",
   "pygments_lexer": "ipython3",
   "version": "3.9.4"
  }
 },
 "nbformat": 4,
 "nbformat_minor": 5
}
